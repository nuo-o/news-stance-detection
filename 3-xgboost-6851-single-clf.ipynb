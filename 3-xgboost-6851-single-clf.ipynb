{
 "cells": [
  {
   "cell_type": "code",
   "execution_count": 11,
   "metadata": {},
   "outputs": [],
   "source": [
    "import nltk, os, pickle,re,string,time, numpy as np, pandas as pd, gensim,math,random\n",
    "from nltk import word_tokenize, sent_tokenize\n",
    "import matplotlib.pyplot as plt\n",
    "%matplotlib inline"
   ]
  },
  {
   "cell_type": "code",
   "execution_count": 12,
   "metadata": {},
   "outputs": [],
   "source": [
    "label_encode = {'agree':0, 'disagree':1, 'discuss':2,'unrelated':3}\n",
    "label_decode = {0:'agree', 1:'disagree', 2:'discuss',3:'unrelated'}\n",
    "\n",
    "def labelEncoder(feature_pd, features):\n",
    "    newStance = [label_encode[s] for s in feature_pd.Stance]\n",
    "    train_x = feature_pd[features]\n",
    "    return train_x, newStance"
   ]
  },
  {
   "cell_type": "code",
   "execution_count": 13,
   "metadata": {},
   "outputs": [],
   "source": [
    "from xgboost import XGBClassifier\n",
    "train_df = pd.read_csv('train_processed_feat.csv')\n",
    "\n",
    "features = ['cos','dis','overlap_count', 'kl','overlap_ratio']\n",
    "train_x, train_y = labelEncoder(train_df, features)"
   ]
  },
  {
   "cell_type": "code",
   "execution_count": 14,
   "metadata": {},
   "outputs": [
    {
     "data": {
      "text/plain": [
       "XGBClassifier(base_score=0.5, booster='gbtree', colsample_bylevel=1,\n",
       "       colsample_bytree=1, gamma=0, learning_rate=0.1, max_delta_step=0,\n",
       "       max_depth=3, min_child_weight=1, missing=None, n_estimators=100,\n",
       "       n_jobs=1, nthread=None, objective='multi:softprob', random_state=0,\n",
       "       reg_alpha=0, reg_lambda=1, scale_pos_weight=1, seed=None,\n",
       "       silent=True, subsample=1)"
      ]
     },
     "execution_count": 14,
     "metadata": {},
     "output_type": "execute_result"
    }
   ],
   "source": [
    "model = XGBClassifier()\n",
    "model.fit(train_x, train_y)"
   ]
  },
  {
   "cell_type": "code",
   "execution_count": 15,
   "metadata": {},
   "outputs": [],
   "source": [
    "evaluate_df = pd.read_csv('test_processed_feat.csv')\n",
    "prediction = model.predict(evaluate_df[features])\n",
    "prediction = [label_decode[p] for p in prediction]"
   ]
  },
  {
   "cell_type": "code",
   "execution_count": 16,
   "metadata": {},
   "outputs": [
    {
     "name": "stdout",
     "output_type": "stream",
     "text": [
      "agree:1903\t, disagree:697\t, discuss:4464\t, unrelated:18349\t\n",
      "total acc= 0.6851914353493579, unrelated acc = 0.99, other acc = 0.584088335220838\n"
     ]
    }
   ],
   "source": [
    "num_agree = len(evaluate_df[evaluate_df.Stance == 'agree'])\n",
    "num_disagree = len(evaluate_df[evaluate_df.Stance == 'disagree'])\n",
    "num_discuss = len(evaluate_df[evaluate_df.Stance == 'discuss'])\n",
    "num_unrelated = len(evaluate_df[evaluate_df.Stance == 'unrelated'])\n",
    "print('agree:{}\\t, disagree:{}\\t, discuss:{}\\t, unrelated:{}\\t'.format(num_agree, num_disagree,num_discuss, num_unrelated))\n",
    "\n",
    "# evaluate matrix \n",
    "unrelated_correct = 0\n",
    "unrelated_N = 0\n",
    "other_correct = 0\n",
    "other_N = 0\n",
    "\n",
    "for predict, true_label in zip(prediction, evaluate_df.Stance):\n",
    "    if true_label == 'unrelated':\n",
    "        unrelated_N += 1\n",
    "        if predict == 'unrelated':\n",
    "            unrelated_correct += 1\n",
    "    else:\n",
    "        if predict == true_label:\n",
    "            other_correct +=1\n",
    "        other_N +=1\n",
    "\n",
    "unrelated_correct_ratio = unrelated_correct/unrelated_N\n",
    "other_correct_ratio = other_correct/other_N\n",
    "total_acc = 0.25*unrelated_correct_ratio + 0.75 * other_correct_ratio\n",
    "print('total acc= {}, unrelated acc = {}, other acc = {}'.format(total_acc, round(unrelated_correct_ratio,2),other_correct_ratio ))"
   ]
  },
  {
   "cell_type": "code",
   "execution_count": 22,
   "metadata": {},
   "outputs": [
    {
     "name": "stdout",
     "output_type": "stream",
     "text": [
      "score: 79.36272932088832\n"
     ]
    }
   ],
   "source": [
    "score = 0\n",
    "total_score = 0\n",
    "\n",
    "for p,true_laWel in zip(prediction, evaluate_df.Stance):\n",
    "    if p == true_laWel:\n",
    "        if true_laWel == 'unrelated':\n",
    "            score += 0.25\n",
    "            total_score += 0.25\n",
    "        else:\n",
    "            score += 1\n",
    "            total_score += 1\n",
    "    else:\n",
    "        if true_laWel == 'unrelated':\n",
    "            score += 0\n",
    "            total_score += 0.25\n",
    "        elif true_laWel != 'unrelated' and p != 'unrelated':\n",
    "            score += 0.25\n",
    "            total_score += 1\n",
    "        else:\n",
    "            score += 0\n",
    "            total_score += 1\n",
    "\n",
    "get_score = score * 100 / total_score \n",
    "print('score:', get_score)\n"
   ]
  },
  {
   "cell_type": "code",
   "execution_count": 7,
   "metadata": {},
   "outputs": [
    {
     "data": {
      "image/png": "[encoded data removed]",
      "text/plain": [
       "<matplotlib.figure.Figure at 0x11968add8>"
      ]
     },
     "metadata": {},
     "output_type": "display_data"
    }
   ],
   "source": [
    "result_sum = []\n",
    "result_sum.append(sum(np.array(prediction) == 'unrelated'))\n",
    "result_sum.append(sum(np.array(prediction) == 'disagree'))\n",
    "result_sum.append(sum(np.array(prediction) == 'agree'))\n",
    "result_sum.append(sum(np.array(prediction) == 'discuss'))\n",
    "plt.bar(['unrelated', 'disagree', 'agree', 'discuss'], result_sum)  \n",
    "for a,b in zip(['unrelated', 'disagree', 'agree', 'discuss'], result_sum):\n",
    "    plt.text(a, b+0.05, '%.0f' % b, ha='center', va= 'bottom',fontsize=10)\n",
    "plt.show()  "
   ]
  },
  {
   "cell_type": "code",
   "execution_count": 8,
   "metadata": {},
   "outputs": [
    {
     "data": {
      "image/png": "[encoded data removed]",
      "text/plain": [
       "<matplotlib.figure.Figure at 0x11a570390>"
      ]
     },
     "metadata": {},
     "output_type": "display_data"
    }
   ],
   "source": [
    "validataion_sum = []\n",
    "validataion_sum.append(sum(evaluate_df['Stance'] == 'unrelated'))\n",
    "validataion_sum.append(sum(evaluate_df['Stance'] == 'agree'))\n",
    "validataion_sum.append(sum(evaluate_df['Stance'] == 'disagree'))\n",
    "validataion_sum.append(sum(evaluate_df['Stance'] == 'discuss'))\n",
    "plt.bar(['unrelated', 'disagree', 'agree', 'discuss'], validataion_sum)  \n",
    "for a,b in zip(['unrelated', 'disagree', 'agree', 'discuss'],validataion_sum):\n",
    "    plt.text(a, b+0.05, '%.0f' % b, ha='center', va= 'bottom',fontsize=7)\n",
    "\n",
    "plt.show()  "
   ]
  },
  {
   "cell_type": "code",
   "execution_count": null,
   "metadata": {},
   "outputs": [],
   "source": []
  },
  {
   "cell_type": "code",
   "execution_count": 9,
   "metadata": {},
   "outputs": [],
   "source": [
    "# sum_agree = sum([1 for label in prediction if label == 'agree'])\n",
    "# sum_disagree = sum([1 for label in prediction if label == 'disagree'])\n",
    "# sum_discuss = sum([1 for label in prediction if label == 'discuss'])\n",
    "# sum_unrelated = sum([1 for label in prediction if label == 'unrelated'])\n",
    "\n",
    "# print(\"agree:{}\\tdisagree:{}\\tdiscuss:{}\\tunrelated:{}\".format(sum_agree, sum_disagree, sum_discuss, sum_unrelated))"
   ]
  },
  {
   "cell_type": "code",
   "execution_count": 10,
   "metadata": {},
   "outputs": [],
   "source": [
    "# sum_agree = sum([1 for label in validation_data.Stance if label == 'agree'])\n",
    "# sum_disagree = sum([1 for label in validation_data.Stance if label == 'disagree'])\n",
    "# sum_discuss = sum([1 for label in validation_data.Stance if label == 'discuss'])\n",
    "# sum_unrelated = sum([1 for label in validation_data.Stance if label == 'unrelated'])\n",
    "\n",
    "# print(\"true:agree:{}\\tdisagree:{}\\tdiscuss:{}\\tunrelated:{}\".format(sum_agree, sum_disagree, sum_discuss, sum_unrelated))"
   ]
  }
 ],
 "metadata": {
  "kernelspec": {
   "display_name": "Python 3",
   "language": "python",
   "name": "python3"
  },
  "language_info": {
   "codemirror_mode": {
    "name": "ipython",
    "version": 3
   },
   "file_extension": ".py",
   "mimetype": "text/x-python",
   "name": "python",
   "nbconvert_exporter": "python",
   "pygments_lexer": "ipython3",
   "version": "3.6.2"
  }
 },
 "nbformat": 4,
 "nbformat_minor": 2
}
