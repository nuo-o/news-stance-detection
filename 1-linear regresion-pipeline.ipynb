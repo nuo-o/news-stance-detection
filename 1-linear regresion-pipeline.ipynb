{
 "cells": [
  {
   "cell_type": "code",
   "execution_count": 1,
   "metadata": {},
   "outputs": [],
   "source": [
    "import pandas as pd,numpy as np,matplotlib.pyplot as plt  \n",
    "from numpy import *  \n",
    "from random import seed\n",
    "from random import randrange\n",
    "from csv import reader\n",
    "from math import sqrt\n",
    "from sklearn import preprocessing\n",
    "%matplotlib inline\n",
    "\n",
    "def prepareData(feature_pd, target_stance, separateUnrelated = True, addIntercept = True):  \n",
    "    # train related instances only with related instance => work like two classifiers\n",
    "    if separateUnrelated and target_stance != 'unrelated':\n",
    "        feature_pd = feature_pd[feature_pd.Stance != 'unrelated']\n",
    "    \n",
    "    train_x = feature_pd[selected_features].values\n",
    "    \n",
    "    # assert intercept column\n",
    "    if addIntercept:\n",
    "        intercept= np.ones((len(feature_pd)))\n",
    "        train_x = np.column_stack([intercept, train_x])\n",
    "\n",
    "    train_y = feature_pd.Stance == target_stance\n",
    "    return train_x, train_y\n",
    "\n",
    "def predict(W,X):\n",
    "    return X.dot(W)\n",
    "\n",
    "def gradient_descent(X, Y, W, alpha, iterations):\n",
    "    N = len(Y)\n",
    "   \n",
    "    for i in range(iterations):\n",
    "        loss = X.dot(W) - Y\n",
    "        gradient = 2/N * X.T.dot(loss)       \n",
    "        W = W - alpha * gradient\n",
    "        MSE = np.sum((X.dot(W) - Y) ** 2)/len(Y)\n",
    "        \n",
    "    print('iterations:', iterations, 'mse:', MSE)     \n",
    "    return W"
   ]
  },
  {
   "cell_type": "code",
   "execution_count": 2,
   "metadata": {},
   "outputs": [],
   "source": [
    "def train(train_feature_path, selected_features, alpha,iteration, W0):\n",
    "\n",
    "    load_feature_df = pd.read_csv(train_feature_path)\n",
    "\n",
    "    train_x_unrelated, train_y_unrelated = prepareData(load_feature_df, 'unrelated')\n",
    "    train_x_agree, train_y_agree = prepareData(load_feature_df, 'agree')\n",
    "    train_x_disagree, train_y_disagree = prepareData(load_feature_df, 'disagree')\n",
    "    train_x_discuss, train_y_discuss = prepareData(load_feature_df, 'discuss')\n",
    "\n",
    "    # rescale all features Wetween 0 and 1.\n",
    "    min_max_scaler =  preprocessing.MinMaxScaler()\n",
    "    train_x_unrelated = min_max_scaler.fit_transform(train_x_unrelated)\n",
    "    train_x_agree = min_max_scaler.fit_transform(train_x_agree)\n",
    "    train_x_disagree = min_max_scaler.fit_transform(train_x_disagree)\n",
    "    train_x_discuss = min_max_scaler.fit_transform(train_x_discuss)\n",
    "\n",
    "    # train linear regression\n",
    "    W = W0*np.ones(len(selected_features)+1)\n",
    "\n",
    "    W_agree = gradient_descent(train_x_agree, train_y_agree, W, alpha, iteration)\n",
    "    W_disagree = gradient_descent(train_x_disagree, train_y_disagree, W, alpha, iteration)\n",
    "    W_discuss = gradient_descent(train_x_discuss, train_y_discuss, W, alpha, iteration)\n",
    "    W_unrelated = gradient_descent(train_x_unrelated, train_y_unrelated, W, alpha, iteration)\n",
    "\n",
    "    return W_agree, W_disagree, W_discuss, W_unrelated\n",
    "\n",
    "def validate(W_agree, W_disagree, W_discuss, W_unrelated, validate_feature_path, printResult = False):\n",
    "    validation_data = pd.read_csv(validate_feature_path)\n",
    "\n",
    "    intercept = np.ones(len(validation_data))\n",
    "    validation_x = np.column_stack([intercept, validation_data[selected_features].values])\n",
    "    min_max_scaler =  preprocessing.MinMaxScaler()\n",
    "    validation_x = min_max_scaler.fit_transform(validation_x)\n",
    "\n",
    "    # make prediction \n",
    "    validation_predict_agree = predict(W_agree, validation_x)\n",
    "    validation_predict_disagree = predict(W_disagree, validation_x)\n",
    "    validation_predict_discuss = predict(W_discuss, validation_x)\n",
    "    validation_predict_unrelated = predict(W_unrelated, validation_x)\n",
    "\n",
    "\n",
    "    # mayWe threshold the unrelated? and select the West among the other if Welow the threshold?\n",
    "    prediction = np.stack([validation_predict_agree,\\\n",
    "                           validation_predict_disagree,\\\n",
    "                           validation_predict_discuss,\\\n",
    "                           validation_predict_unrelated],\\\n",
    "                         axis = 1)\n",
    "    label_dict = {0:'agree', 1:'disagree', 2:'discuss',3:'unrelated'}\n",
    "    prediction = np.array([label_dict[result.argmax()] for result in prediction])\n",
    "\n",
    "    # evaluate accuracy and score\n",
    "    unrelated_correct = 0\n",
    "    other_correct = 0\n",
    "    N_unrelated = len(validation_data[validation_data.Stance == 'unrelated'])\n",
    "    N_other = len(validation_data) - N_unrelated\n",
    "\n",
    "    for p,true_laWel in zip(prediction, validation_data.Stance):\n",
    "        if p == true_laWel:\n",
    "            if p == 'unrelated':\n",
    "                unrelated_correct +=1\n",
    "            else:\n",
    "                other_correct +=1\n",
    "\n",
    "    unrelated_acc = unrelated_correct/N_unrelated\n",
    "    other_acc = other_correct/N_other\n",
    "    \n",
    "    if printResult:\n",
    "        print('find unrelated:',unrelated_correct,'/' ,N_unrelated, 'accuracy:', unrelated_acc)\n",
    "        print('find other:',other_correct,'/',N_other, 'accuracy:', other_acc)\n",
    "        \n",
    "    score = 0\n",
    "    total_score = 0\n",
    "\n",
    "    for p,true_laWel in zip(prediction, validation_data.Stance):\n",
    "        if p == true_laWel:\n",
    "            if true_laWel == 'unrelated':\n",
    "                score += 0.25\n",
    "                total_score += 0.25\n",
    "            else:\n",
    "                score += 1\n",
    "                total_score += 1\n",
    "        else:\n",
    "            if true_laWel == 'unrelated':\n",
    "                score += 0\n",
    "                total_score += 0.25\n",
    "            elif true_laWel != 'unrelated' and p != 'unrelated':\n",
    "                score += 0.25\n",
    "                total_score += 1\n",
    "            else:\n",
    "                score += 0\n",
    "                total_score += 1\n",
    "\n",
    "    get_score = score * 100 / total_score \n",
    "    print('score:', get_score)\n",
    "    \n",
    "    return get_score"
   ]
  },
  {
   "cell_type": "code",
   "execution_count": 3,
   "metadata": {},
   "outputs": [
    {
     "name": "stdout",
     "output_type": "stream",
     "text": [
      "iterations: 3000 mse: 0.200730270056\n",
      "iterations: 3000 mse: 0.0597451893517\n",
      "iterations: 3000 mse: 0.265365979408\n",
      "iterations: 3000 mse: 0.501985998741\n",
      "find unrelated: 27521 / 29647 accuracy: 0.9282895402570244\n",
      "find other: 6493 / 10703 accuracy: 0.6066523404652902\n",
      "score: 78.24838874397935\n"
     ]
    }
   ],
   "source": [
    "W0 = 0\n",
    "iteration = 3000\n",
    "selected_features = ['kl','overlap_ratio','cos','dis']\n",
    "\n",
    "W_agree, W_disagree, W_discuss, W_unrelated = train('train_processed_feat.csv', selected_features, 0.02, iteration, W0)\n",
    "\n",
    "score = validate(W_agree, W_disagree, W_discuss, W_unrelated, 'hold_out_processed_feat.csv', printResult=True)"
   ]
  },
  {
   "cell_type": "markdown",
   "metadata": {},
   "source": [
    "# select features"
   ]
  },
  {
   "cell_type": "code",
   "execution_count": 18,
   "metadata": {},
   "outputs": [
    {
     "name": "stdout",
     "output_type": "stream",
     "text": [
      "iterations: 3000 mse: 0.205030977898\n",
      "iterations: 3000 mse: 0.0599047710583\n",
      "iterations: 3000 mse: 0.298518625\n",
      "iterations: 3000 mse: 0.613862243556\n",
      "find unrelated: 0 / 29647 accuracy: 0.0\n",
      "find other: 7110 / 10703 accuracy: 0.6642997290479304\n",
      "score: 44.20844891593867\n",
      "weight:\n",
      "    unrelated     agree  disagree   discuss\n",
      "0   0.000000  0.000000  0.000000  0.000000\n",
      "1   2.072809  0.929235  0.209965  2.164209\n",
      "weight sum:\n",
      " [ 5.37621719]\n",
      "min weight contribution:\n",
      " 0\n"
     ]
    },
    {
     "data": {
      "text/plain": [
       "0"
      ]
     },
     "execution_count": 18,
     "metadata": {},
     "output_type": "execute_result"
    }
   ],
   "source": [
    "W0 = 0\n",
    "iteration = 3000\n",
    "selected_features = ['kl']\n",
    "\n",
    "W_agree, W_disagree, W_discuss, W_unrelated = train('train_processed_feat.csv', selected_features, 0.02, iteration, W0)\n",
    "\n",
    "score = validate(W_agree, W_disagree, W_discuss, W_unrelated, 'hold_out_processed_feat.csv', printResult=True)\n",
    "\n",
    "w = pd.DataFrame(np.column_stack([W_unrelated, W_agree, W_disagree,W_discuss]), columns=['unrelated', 'agree', 'disagree', 'discuss'])\n",
    "print('weight:\\n',w)\n",
    "a = w.values\n",
    "a = [abs(v) for v in a]\n",
    "print('weight sum:\\n',np.sum(a[1:], axis = 1))\n",
    "print('min weight contribution:\\n',np.sum(a[1:], axis = 1).argmin())\n",
    "\n",
    "import os\n",
    "os.system('say \"you are very beautiful\"')"
   ]
  },
  {
   "cell_type": "markdown",
   "metadata": {},
   "source": [
    "# tune learning rate, iteration, and initial weight"
   ]
  },
  {
   "cell_type": "code",
   "execution_count": 5,
   "metadata": {},
   "outputs": [],
   "source": [
    "# Iter = list(np.arange(1000,5000,1000))\n",
    "# score_s = []\n",
    "# alpha = 0.01\n",
    "# selected_features = ['kl','overlap_ratio','cos','dis']\n",
    "\n",
    "# for i,iteration in enumerate(Iter):\n",
    "#     W_agree, W_disagree, W_discuss, W_unrelated = train('train_processed_feat.csv', selected_features, alpha, iteration, -4)\n",
    "#     score = validate(W_agree, W_disagree, W_discuss, W_unrelated, 'hold_out_processed_feat.csv', printResult=False)\n",
    "#     score_s.append(score)\n",
    "\n",
    "# plt.figure()\n",
    "# plt.plot(range(len(score_s)), score_s, 'g*')"
   ]
  },
  {
   "cell_type": "code",
   "execution_count": 6,
   "metadata": {},
   "outputs": [],
   "source": [
    "# Iter[score_s.index(max(score_s))]"
   ]
  },
  {
   "cell_type": "code",
   "execution_count": 8,
   "metadata": {},
   "outputs": [],
   "source": [
    "# W0 = -4\n",
    "# iteration = 3000\n",
    "# alpha = 0.01\n",
    "# selected_features = ['kl','overlap_ratio','cos','dis']\n",
    "\n",
    "# W_agree, W_disagree, W_discuss, W_unrelated = train('train_processed_feat.csv', selected_features, alpha, iteration, W0)\n",
    "\n",
    "# score = validate(W_agree, W_disagree, W_discuss, W_unrelated, 'hold_out_processed_feat.csv', printResult=True)"
   ]
  },
  {
   "cell_type": "markdown",
   "metadata": {},
   "source": [
    "# evaluate on test "
   ]
  },
  {
   "cell_type": "code",
   "execution_count": 19,
   "metadata": {},
   "outputs": [
    {
     "name": "stdout",
     "output_type": "stream",
     "text": [
      "iterations: 3000 mse: 0.247772936938\n",
      "iterations: 3000 mse: 0.101366108477\n",
      "iterations: 3000 mse: 0.291478492484\n",
      "iterations: 3000 mse: 0.654360419667\n",
      "find unrelated: 15671 / 18349 accuracy: 0.8540519919341654\n",
      "find other: 4325 / 7064 accuracy: 0.6122593431483578\n",
      "score: 76.07552837678361\n"
     ]
    }
   ],
   "source": [
    "W0 = -4\n",
    "iteration = 3000\n",
    "alpha = 0.01\n",
    "selected_features = ['kl','overlap_ratio','cos','dis']\n",
    "\n",
    "W_agree, W_disagree, W_discuss, W_unrelated = train('train_processed_feat.csv', selected_features, alpha, iteration, W0)\n",
    "\n",
    "score = validate(W_agree, W_disagree, W_discuss, W_unrelated, 'test_processed_feat.csv', printResult=True)"
   ]
  },
  {
   "cell_type": "code",
   "execution_count": 7,
   "metadata": {},
   "outputs": [
    {
     "data": {
      "text/plain": [
       "0"
      ]
     },
     "execution_count": 7,
     "metadata": {},
     "output_type": "execute_result"
    }
   ],
   "source": [
    "import os\n",
    "os.system('say \"you are very beautiful\"')"
   ]
  },
  {
   "cell_type": "code",
   "execution_count": null,
   "metadata": {},
   "outputs": [],
   "source": []
  }
 ],
 "metadata": {
  "kernelspec": {
   "display_name": "Python 3",
   "language": "python",
   "name": "python3"
  },
  "language_info": {
   "codemirror_mode": {
    "name": "ipython",
    "version": 3
   },
   "file_extension": ".py",
   "mimetype": "text/x-python",
   "name": "python",
   "nbconvert_exporter": "python",
   "pygments_lexer": "ipython3",
   "version": "3.6.2"
  }
 },
 "nbformat": 4,
 "nbformat_minor": 2
}
