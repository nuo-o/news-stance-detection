{
 "cells": [
  {
   "cell_type": "code",
   "execution_count": 1,
   "metadata": {},
   "outputs": [
    {
     "name": "stdout",
     "output_type": "stream",
     "text": [
      "Reading dataset\n",
      "Total stances: 49972\n",
      "Total bodies: 1683\n"
     ]
    }
   ],
   "source": [
    "import nltk, os, pickle,re,string,time, numpy as np, pandas as pd, utils.generate_test_splits as split,gensim, math\n",
    "from utils.dataset import DataSet\n",
    "from nltk import word_tokenize, sent_tokenize\n",
    "import matplotlib.pyplot as plt\n",
    "%matplotlib inline\n",
    "\n",
    "train = DataSet('train')\n",
    "\n",
    "with open('./fnc-1/splitted_train_list_dict.pickle', 'rb') as handle:\n",
    "    train_stance = pickle.load(handle)\n",
    "with open('./fnc-1/splitted_evaluate_list_dict.pickle', 'rb') as handle:\n",
    "    hold_out_stance = pickle.load(handle)"
   ]
  },
  {
   "cell_type": "code",
   "execution_count": 2,
   "metadata": {},
   "outputs": [
    {
     "data": {
      "text/plain": [
       "OrderedDict([('Headline',\n",
       "              'Hundreds of Palestinians flee floods in Gaza as Israel opens dams'),\n",
       "             ('Body ID', 158),\n",
       "             ('Stance', 'agree')])"
      ]
     },
     "execution_count": 2,
     "metadata": {},
     "output_type": "execute_result"
    }
   ],
   "source": [
    "train_stance[0]"
   ]
  },
  {
   "cell_type": "code",
   "execution_count": 3,
   "metadata": {},
   "outputs": [],
   "source": [
    "def transform_to_pd_format(stance):\n",
    "    headlines = [stance[i]['Headline'] for i in range(len(stance))]\n",
    "    body_id_s = [stance[i]['Body ID'] for i in range(len(stance))]\n",
    "    stance_s = [stance[i]['Stance'] for i in range(len(stance))]\n",
    "\n",
    "    stance_df = np.column_stack([headlines, body_id_s, stance_s])\n",
    "    stance_pd = pd.DataFrame(stance_df, columns=['Headline', 'Body ID', 'Stance'])\n",
    "    return stance_pd"
   ]
  },
  {
   "cell_type": "code",
   "execution_count": 4,
   "metadata": {},
   "outputs": [],
   "source": [
    "train_stance_pd = transform_to_pd_format(train_stance)\n",
    "evaluate_stance_pd = transform_to_pd_format(hold_out_stance)"
   ]
  },
  {
   "cell_type": "code",
   "execution_count": 5,
   "metadata": {},
   "outputs": [],
   "source": [
    "train_stance_pd.to_csv('train_stance_pd.csv')\n",
    "evaluate_stance_pd.to_csv('evaluate_stance_pd.csv')"
   ]
  },
  {
   "cell_type": "code",
   "execution_count": null,
   "metadata": {},
   "outputs": [],
   "source": []
  }
 ],
 "metadata": {
  "kernelspec": {
   "display_name": "Python 3",
   "language": "python",
   "name": "python3"
  },
  "language_info": {
   "codemirror_mode": {
    "name": "ipython",
    "version": 3
   },
   "file_extension": ".py",
   "mimetype": "text/x-python",
   "name": "python",
   "nbconvert_exporter": "python",
   "pygments_lexer": "ipython3",
   "version": "3.6.2"
  }
 },
 "nbformat": 4,
 "nbformat_minor": 2
}
