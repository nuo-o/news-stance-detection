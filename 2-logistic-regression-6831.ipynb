{
 "cells": [
  {
   "cell_type": "code",
   "execution_count": 1,
   "metadata": {},
   "outputs": [],
   "source": [
    "import pandas as pd,numpy as np,matplotlib.pyplot as plt, time  \n",
    "from numpy import *  \n",
    "from random import seed\n",
    "from random import randrange\n",
    "from csv import reader\n",
    "from math import sqrt\n",
    "from sklearn import preprocessing\n",
    "%matplotlib inline\n",
    "\n",
    "def sigmoid(x):  \n",
    "    return 1.0 / (1 + np.exp(-x))  \n",
    "\n",
    "def prepareData(train_pd, stance):  \n",
    "    train_x = train_pd[selected_features].values\n",
    "    train_y = train_pd['Stance'].values == stance\n",
    "    return mat(train_x), mat(train_y).transpose()\n",
    "\n",
    "def predict(weights, test_x):\n",
    "    predict = sigmoid(test_x * weights)\n",
    "    return predict\n",
    "\n",
    "def gradient_descent(train_x, train_y, weights, alpha, iteration):  \n",
    "    for k in range(iteration):  \n",
    "        output = sigmoid(np.dot(train_x, weights))  \n",
    "        loss = train_y - output\n",
    "        weights = weights + alpha * train_x.transpose() * loss \n",
    "    \n",
    "    mse = (sum(loss))**2/len(train_x)\n",
    "    print('mse:',mse)\n",
    "\n",
    "    return weights"
   ]
  },
  {
   "cell_type": "code",
   "execution_count": 2,
   "metadata": {},
   "outputs": [
    {
     "name": "stdout",
     "output_type": "stream",
     "text": [
      "start train using logistic regression:\n"
     ]
    },
    {
     "name": "stderr",
     "output_type": "stream",
     "text": [
      "/Library/Frameworks/Python.framework/Versions/3.6/lib/python3.6/site-packages/ipykernel_launcher.py:11: RuntimeWarning: overflow encountered in exp\n",
      "  # This is added back by InteractiveShellApp.init_path()\n"
     ]
    },
    {
     "name": "stdout",
     "output_type": "stream",
     "text": [
      "mse: 2088.57885121\n",
      "mse: 2804.57586851\n",
      "mse: 1831.04387237\n",
      "mse: 394.877464685\n",
      "evaluate score: 0.6831160609565375\n",
      "find unrelated: 17222 / 18349 accuracy: 0.9385797591149382\n",
      "find other: 4224 / 7064 accuracy: 0.5979614949037373\n"
     ]
    }
   ],
   "source": [
    "selected_features = ['cos','dis','overlap_count'] # 0.3621\n",
    "\n",
    "\n",
    "load_feature_df = pd.read_csv('train_processed_feat.csv')\n",
    "\n",
    "train_x_unrelated, train_y_unrelated = prepareData(load_feature_df, 'unrelated')\n",
    "train_x_agree, train_y_agree = prepareData(load_feature_df, 'agree')\n",
    "train_x_disagree, train_y_disagree = prepareData(load_feature_df, 'disagree')\n",
    "train_x_discuss, train_y_discuss = prepareData(load_feature_df, 'discuss')\n",
    "\n",
    "# train logistic regression\n",
    "W = np.zeros((len(selected_features),1))\n",
    "alpha = 0.02\n",
    "print('start train using logistic regression:')\n",
    "W_unrelated = gradient_descent(train_x_unrelated, train_y_unrelated, W, alpha, 3000)\n",
    "W_agree = gradient_descent(train_x_agree, train_y_agree, W, alpha, 3000)\n",
    "W_disagree = gradient_descent(train_x_disagree, train_y_disagree, W, alpha, 3000)\n",
    "W_discuss = gradient_descent(train_x_discuss, train_y_discuss, W, alpha, 3000)\n",
    "\n",
    "# predict on validation \n",
    "validation_data = pd.read_csv('test_processed_feat.csv')\n",
    "validation_x = validation_data[selected_features].values\n",
    "\n",
    "validation_predict_agree = predict(W_agree, validation_x)*0.072\n",
    "validation_predict_disagree = predict(W_disagree, validation_x)*0.017\n",
    "validation_predict_discuss = predict(W_discuss, validation_x)*0.176\n",
    "validation_predict_unrelated = predict(W_unrelated, validation_x)*0.735\n",
    "\n",
    "# mayWe threshold the unrelated? and select the West among the other if Welow the threshold?\n",
    "prediction = np.column_stack([validation_predict_agree,\\\n",
    "                              validation_predict_disagree,\\\n",
    "                              validation_predict_discuss,\\\n",
    "                              validation_predict_unrelated])\n",
    "label_dict = {0:'agree', 1:'disagree', 2:'discuss',3:'unrelated'}\n",
    "prediction = np.array([label_dict[result.argmax()] for result in prediction])\n",
    "\n",
    "\n",
    "# evaluate accuracy and score\n",
    "unrelated_correct = 0\n",
    "other_correct = 0\n",
    "N_unrelated = len(validation_data[validation_data.Stance == 'unrelated'])\n",
    "N_other = len(validation_data) - N_unrelated\n",
    "\n",
    "for p,true_laWel in zip(prediction, validation_data.Stance):\n",
    "    if p == true_laWel:\n",
    "        if p == 'unrelated':\n",
    "            unrelated_correct +=1\n",
    "        else:\n",
    "            other_correct +=1\n",
    "\n",
    "print('evaluate score:',unrelated_correct/N_unrelated * 0.25 + 0.75* other_correct/N_other)\n",
    "print('find unrelated:',unrelated_correct,'/' ,N_unrelated, 'accuracy:', unrelated_correct/N_unrelated)\n",
    "print('find other:',other_correct,'/',N_other, 'accuracy:', other_correct/N_other)"
   ]
  },
  {
   "cell_type": "markdown",
   "metadata": {},
   "source": [
    "# select features"
   ]
  },
  {
   "cell_type": "code",
   "execution_count": 3,
   "metadata": {},
   "outputs": [
    {
     "data": {
      "text/html": [
       "<div>\n",
       "<style scoped>\n",
       "    .dataframe tbody tr th:only-of-type {\n",
       "        vertical-align: middle;\n",
       "    }\n",
       "\n",
       "    .dataframe tbody tr th {\n",
       "        vertical-align: top;\n",
       "    }\n",
       "\n",
       "    .dataframe thead th {\n",
       "        text-align: right;\n",
       "    }\n",
       "</style>\n",
       "<table border=\"1\" class=\"dataframe\">\n",
       "  <thead>\n",
       "    <tr style=\"text-align: right;\">\n",
       "      <th></th>\n",
       "      <th>unrelated</th>\n",
       "      <th>agree</th>\n",
       "      <th>disagree</th>\n",
       "      <th>discuss</th>\n",
       "    </tr>\n",
       "  </thead>\n",
       "  <tbody>\n",
       "    <tr>\n",
       "      <th>0</th>\n",
       "      <td>-5572.542506</td>\n",
       "      <td>2449.852058</td>\n",
       "      <td>253.623290</td>\n",
       "      <td>8132.257128</td>\n",
       "    </tr>\n",
       "    <tr>\n",
       "      <th>1</th>\n",
       "      <td>197.702580</td>\n",
       "      <td>-59.897257</td>\n",
       "      <td>-41.346767</td>\n",
       "      <td>-1149.793263</td>\n",
       "    </tr>\n",
       "    <tr>\n",
       "      <th>2</th>\n",
       "      <td>50.435724</td>\n",
       "      <td>-207.642582</td>\n",
       "      <td>-359.361429</td>\n",
       "      <td>162.223508</td>\n",
       "    </tr>\n",
       "  </tbody>\n",
       "</table>\n",
       "</div>"
      ],
      "text/plain": [
       "     unrelated        agree    disagree      discuss\n",
       "0 -5572.542506  2449.852058  253.623290  8132.257128\n",
       "1   197.702580   -59.897257  -41.346767 -1149.793263\n",
       "2    50.435724  -207.642582 -359.361429   162.223508"
      ]
     },
     "execution_count": 3,
     "metadata": {},
     "output_type": "execute_result"
    }
   ],
   "source": [
    "w = pd.DataFrame(np.column_stack([W_unrelated, W_agree, W_disagree,W_discuss]), columns=['unrelated', 'agree', 'disagree', 'discuss'])\n",
    "w"
   ]
  },
  {
   "cell_type": "code",
   "execution_count": 4,
   "metadata": {},
   "outputs": [
    {
     "data": {
      "text/plain": [
       "array([ 16408.27498212,   1448.73986788,    779.66324373])"
      ]
     },
     "execution_count": 4,
     "metadata": {},
     "output_type": "execute_result"
    }
   ],
   "source": [
    "a = w.values\n",
    "a = [abs(v) for v in a]\n",
    "np.sum(a, axis = 1)"
   ]
  },
  {
   "cell_type": "code",
   "execution_count": 5,
   "metadata": {},
   "outputs": [
    {
     "data": {
      "text/plain": [
       "2"
      ]
     },
     "execution_count": 5,
     "metadata": {},
     "output_type": "execute_result"
    }
   ],
   "source": [
    "np.sum(a, axis = 1).argmin()"
   ]
  },
  {
   "cell_type": "code",
   "execution_count": 6,
   "metadata": {},
   "outputs": [
    {
     "data": {
      "text/plain": [
       "0"
      ]
     },
     "execution_count": 6,
     "metadata": {},
     "output_type": "execute_result"
    }
   ],
   "source": [
    "import os\n",
    "os.system('say \"you are very beautiful\"')"
   ]
  },
  {
   "cell_type": "code",
   "execution_count": null,
   "metadata": {},
   "outputs": [],
   "source": []
  }
 ],
 "metadata": {
  "kernelspec": {
   "display_name": "Python 3",
   "language": "python",
   "name": "python3"
  },
  "language_info": {
   "codemirror_mode": {
    "name": "ipython",
    "version": 3
   },
   "file_extension": ".py",
   "mimetype": "text/x-python",
   "name": "python",
   "nbconvert_exporter": "python",
   "pygments_lexer": "ipython3",
   "version": "3.6.2"
  }
 },
 "nbformat": 4,
 "nbformat_minor": 2
}
